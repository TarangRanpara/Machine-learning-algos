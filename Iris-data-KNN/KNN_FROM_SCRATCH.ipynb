{
 "cells": [
  {
   "cell_type": "code",
   "execution_count": 1,
   "metadata": {},
   "outputs": [],
   "source": [
    "import numpy as np\n",
    "import pandas as pd\n",
    "import operator"
   ]
  },
  {
   "cell_type": "code",
   "execution_count": 3,
   "metadata": {},
   "outputs": [],
   "source": [
    "def divide_data(data,ratio):\n",
    "    #ratio accepts 0.90, 0.80 etc    \n",
    "    n = data.shape[0]\n",
    "    train_data,test_data =  data.loc[0:int(ratio*n)-1],data.loc[int(ratio*n):n-1]\n",
    "    \n",
    "    x_train,y_train = train_data.iloc[:,1:-1],train_data.iloc[:,-1]\n",
    "    x_test,y_test = test_data.iloc[:,1:-1],test_data.iloc[:,-1]\n",
    "    \n",
    "    return np.array(x_train),np.array(y_train),np.array(x_test),np.array(y_test)"
   ]
  },
  {
   "cell_type": "code",
   "execution_count": 4,
   "metadata": {},
   "outputs": [],
   "source": [
    "def euclidian_distance(inst1,inst2,length):\n",
    "    dist=0\n",
    "    for i in range(length):\n",
    "        dist += (inst1[i]-inst2[i])**2\n",
    "    \n",
    "    return dist**(1/2)"
   ]
  },
  {
   "cell_type": "code",
   "execution_count": 5,
   "metadata": {},
   "outputs": [],
   "source": [
    "def get_neighbors(x_train,y_train,test_instance,k):\n",
    "    distances = []\n",
    "    neighbors = []\n",
    "    n = x_train.shape[0]\n",
    "    \n",
    "    for i in range(n):\n",
    "        distances.append((x_train[i],y_train[i],euclidian_distance(x_train[i],test_instance,4)))\n",
    "    \n",
    "    distances.sort(key = operator.itemgetter(2))\n",
    "    \n",
    "    for i in range(k):\n",
    "        neighbors.append(distances[i])\n",
    "        \n",
    "    return neighbors"
   ]
  },
  {
   "cell_type": "code",
   "execution_count": 8,
   "metadata": {},
   "outputs": [],
   "source": [
    "def get_result(neighbors):\n",
    "    counts = dict()\n",
    "    for neighbor in neighbors:\n",
    "        if neighbor[1] not in counts:\n",
    "            counts[neighbor[1]] = 1\n",
    "        else:\n",
    "            counts[neighbor[1]] += 1\n",
    "            \n",
    "    print('possibilities:',counts)\n",
    "    \n",
    "    maximum = max(counts, key=counts.get)  # Just use 'min' instead of 'max' for minimum.\n",
    "    print('predicted:', maximum)    "
   ]
  },
  {
   "cell_type": "code",
   "execution_count": 13,
   "metadata": {},
   "outputs": [
    {
     "name": "stdout",
     "output_type": "stream",
     "text": [
      "possibilities: {'Iris-virginica': 3}\n",
      "predicted: Iris-virginica\n",
      "original: Iris-virginica\n",
      "........................................\n",
      "possibilities: {'Iris-virginica': 3}\n",
      "predicted: Iris-virginica\n",
      "original: Iris-virginica\n",
      "........................................\n",
      "possibilities: {'Iris-virginica': 3}\n",
      "predicted: Iris-virginica\n",
      "original: Iris-virginica\n",
      "........................................\n",
      "possibilities: {'Iris-virginica': 2, 'Iris-versicolor': 1}\n",
      "predicted: Iris-virginica\n",
      "original: Iris-virginica\n",
      "........................................\n",
      "possibilities: {'Iris-virginica': 3}\n",
      "predicted: Iris-virginica\n",
      "original: Iris-virginica\n",
      "........................................\n",
      "possibilities: {'Iris-virginica': 3}\n",
      "predicted: Iris-virginica\n",
      "original: Iris-virginica\n",
      "........................................\n",
      "possibilities: {'Iris-virginica': 3}\n",
      "predicted: Iris-virginica\n",
      "original: Iris-virginica\n",
      "........................................\n",
      "possibilities: {'Iris-virginica': 3}\n",
      "predicted: Iris-virginica\n",
      "original: Iris-virginica\n",
      "........................................\n",
      "possibilities: {'Iris-virginica': 3}\n",
      "predicted: Iris-virginica\n",
      "original: Iris-virginica\n",
      "........................................\n",
      "possibilities: {'Iris-virginica': 3}\n",
      "predicted: Iris-virginica\n",
      "original: Iris-virginica\n",
      "........................................\n",
      "possibilities: {'Iris-virginica': 3}\n",
      "predicted: Iris-virginica\n",
      "original: Iris-virginica\n",
      "........................................\n",
      "possibilities: {'Iris-virginica': 3}\n",
      "predicted: Iris-virginica\n",
      "original: Iris-virginica\n",
      "........................................\n",
      "possibilities: {'Iris-virginica': 3}\n",
      "predicted: Iris-virginica\n",
      "original: Iris-virginica\n",
      "........................................\n",
      "possibilities: {'Iris-virginica': 3}\n",
      "predicted: Iris-virginica\n",
      "original: Iris-virginica\n",
      "........................................\n",
      "possibilities: {'Iris-virginica': 2, 'Iris-versicolor': 1}\n",
      "predicted: Iris-virginica\n",
      "original: Iris-virginica\n",
      "........................................\n"
     ]
    }
   ],
   "source": [
    "if __name__ == '__main__':\n",
    "    data = pd.read_csv('iris.csv')\n",
    "    x_train,y_train,x_test,y_test = divide_data(data,0.90)\n",
    "    for test_instance,y_original in zip(x_test,y_test): \n",
    "        neighbors = get_neighbors(x_train,y_train,test_instance,3)\n",
    "        get_result(neighbors)\n",
    "        print('original:',y_original)\n",
    "        print('.'*40)\n",
    "        "
   ]
  }
 ],
 "metadata": {
  "kernelspec": {
   "display_name": "Python 3",
   "language": "python",
   "name": "python3"
  },
  "language_info": {
   "codemirror_mode": {
    "name": "ipython",
    "version": 3
   },
   "file_extension": ".py",
   "mimetype": "text/x-python",
   "name": "python",
   "nbconvert_exporter": "python",
   "pygments_lexer": "ipython3",
   "version": "3.6.5"
  }
 },
 "nbformat": 4,
 "nbformat_minor": 2
}
