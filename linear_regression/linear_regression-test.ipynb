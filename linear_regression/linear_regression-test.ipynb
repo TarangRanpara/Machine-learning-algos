{
 "cells": [
  {
   "cell_type": "code",
   "execution_count": 1,
   "metadata": {},
   "outputs": [],
   "source": [
    "%matplotlib inline\n",
    "\n",
    "import pandas as pd\n",
    "import matplotlib.pyplot as plt"
   ]
  },
  {
   "cell_type": "code",
   "execution_count": 2,
   "metadata": {},
   "outputs": [],
   "source": [
    "def plot_data(b,m,x,y):\n",
    "    plt.xlabel = 'X'\n",
    "    plt.ylabel = 'Y'\n",
    "    plt.title = 'linear regression demo'\n",
    "    plt.scatter(x,y,label='data')\n",
    "    plt.legend()\n",
    "    plt.plot(x,m*x+b)\n",
    "    plt.show()"
   ]
  },
  {
   "cell_type": "code",
   "execution_count": 3,
   "metadata": {},
   "outputs": [],
   "source": [
    "def compute_error(b,m,data):\n",
    "    totalError = 0.0\n",
    "    for i in range(len(data)):\n",
    "        x = data['x'][i]\n",
    "        y = data['y'][i]\n",
    "        totalError += ( y - (m*x + b)) ** 2\n",
    "        \n",
    "    return float(totalError)/float(len(data))"
   ]
  },
  {
   "cell_type": "code",
   "execution_count": 4,
   "metadata": {},
   "outputs": [],
   "source": [
    "def step_gradient(b,m,data,learning_rate):\n",
    "    b_gradient = 0\n",
    "    m_gradient = 0\n",
    "    \n",
    "    N = float(len(data))\n",
    "    \n",
    "    for i in range(len(data)):\n",
    "        x = data['x'][i]\n",
    "        y = data['y'][i]\n",
    "        \n",
    "        b_gradient += -(2/N) * (y - (m*x + b))\n",
    "        m_gradient += -(2*x/N) * (y - (m*x + b))\n",
    "        \n",
    "    b = b - (learning_rate * b_gradient)\n",
    "    m = m - (learning_rate * m_gradient)\n",
    "    \n",
    "    return b,m"
   ]
  },
  {
   "cell_type": "code",
   "execution_count": 23,
   "metadata": {},
   "outputs": [],
   "source": [
    "def gradient_descent_runner(data,initial_b,initial_m,learning_rate,no_of_iterations):\n",
    "    b = initial_b\n",
    "    m = initial_m\n",
    "    \n",
    "    min_b,min_m = initial_b,initial_m\n",
    "    \n",
    "    error = 0\n",
    "    itter = 0\n",
    "    l = []\n",
    "    for i in range(no_of_iterations):\n",
    "        b,m = step_gradient(b,m,data,learning_rate)\n",
    "        \n",
    "        e = compute_error(b,m,data)\n",
    "        l.append(e)\n",
    "        \n",
    "        if i==0:\n",
    "            error = e\n",
    "        \n",
    "        if e < error:\n",
    "            error = e\n",
    "            min_b,min_m = b,m\n",
    "            itter = i\n",
    "        \n",
    "    return min_b,min_m,itter,l"
   ]
  },
  {
   "cell_type": "code",
   "execution_count": 29,
   "metadata": {},
   "outputs": [],
   "source": [
    "def main():\n",
    "    \n",
    "    #getting data\n",
    "    data = pd.read_table('data_set.txt',sep=',',header=None)\n",
    "    #data = pd.read_table('data.csv',sep=',',header=None)\n",
    "    data.columns = ['x','y']\n",
    "    \n",
    "    #defining hyper params\n",
    "    #how fast the model converges\n",
    "    learning_rate = 0.00001\n",
    "\n",
    "    # for Y = mx + b\n",
    "    initial_b = 0\n",
    "    initial_m = 0\n",
    "    \n",
    "    no_of_iterations = 100000\n",
    "    \n",
    "    b,m,no,l = gradient_descent_runner(data,initial_b,initial_m,learning_rate,no_of_iterations)\n",
    "    \n",
    "    print(b,'\\n',m,'\\n',no,'\\n',l)\n",
    "    \n",
    "    print(min(l),l[len(l)-1])\n",
    "    \n",
    "    #ploting data\n",
    "    plot_data(b,m,data['x'],data['y'])\n",
    "    "
   ]
  },
  {
   "cell_type": "code",
   "execution_count": null,
   "metadata": {},
   "outputs": [],
   "source": []
  },
  {
   "cell_type": "code",
   "execution_count": null,
   "metadata": {},
   "outputs": [],
   "source": [
    "if __name__ == '__main__':\n",
    "    main()"
   ]
  },
  {
   "cell_type": "code",
   "execution_count": null,
   "metadata": {},
   "outputs": [],
   "source": []
  },
  {
   "cell_type": "code",
   "execution_count": null,
   "metadata": {},
   "outputs": [],
   "source": []
  }
 ],
 "metadata": {
  "kernelspec": {
   "display_name": "Python 3",
   "language": "python",
   "name": "python3"
  },
  "language_info": {
   "codemirror_mode": {
    "name": "ipython",
    "version": 3
   },
   "file_extension": ".py",
   "mimetype": "text/x-python",
   "name": "python",
   "nbconvert_exporter": "python",
   "pygments_lexer": "ipython3",
   "version": "3.6.4"
  }
 },
 "nbformat": 4,
 "nbformat_minor": 2
}
