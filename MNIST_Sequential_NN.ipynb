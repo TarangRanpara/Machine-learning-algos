{
 "cells": [
  {
   "cell_type": "code",
   "execution_count": 1,
   "metadata": {},
   "outputs": [],
   "source": [
    "import sys\n",
    "import numpy as np\n",
    "import matplotlib.pyplot as plt\n",
    "import tensorflow as tf"
   ]
  },
  {
   "cell_type": "code",
   "execution_count": 2,
   "metadata": {},
   "outputs": [
    {
     "name": "stdout",
     "output_type": "stream",
     "text": [
      "python:\t\t 3.6.5 (v3.6.5:f59c0932b4, Mar 28 2018, 17:00:18) [MSC v.1900 64 bit (AMD64)] \n",
      "numpy:\t\t 1.15.4 \n",
      "tensorflow:\t 1.12.0\n"
     ]
    }
   ],
   "source": [
    "print('python:\\t\\t',sys.version,\n",
    "     '\\nnumpy:\\t\\t',np.__version__,\n",
    "      '\\ntensorflow:\\t',tf.__version__)"
   ]
  },
  {
   "cell_type": "code",
   "execution_count": 3,
   "metadata": {},
   "outputs": [],
   "source": [
    "#loading dataset\n",
    "mnist = tf.keras.datasets.mnist\n",
    "\n",
    "(x_train,y_train),(x_test,y_test) = mnist.load_data()"
   ]
  },
  {
   "cell_type": "code",
   "execution_count": 4,
   "metadata": {},
   "outputs": [
    {
     "data": {
      "image/png": "[encoded data removed]",
      "text/plain": [
       "<Figure size 432x288 with 1 Axes>"
      ]
     },
     "metadata": {
      "needs_background": "light"
     },
     "output_type": "display_data"
    }
   ],
   "source": [
    "#sample data\n",
    "plt.imshow(x_train[0],cmap=plt.cm.binary)\n",
    "#converted the image in b&w\n",
    "plt.show()"
   ]
  },
  {
   "cell_type": "code",
   "execution_count": 5,
   "metadata": {},
   "outputs": [
    {
     "data": {
      "image/png": "[encoded data removed]",
      "text/plain": [
       "<Figure size 432x288 with 1 Axes>"
      ]
     },
     "metadata": {
      "needs_background": "light"
     },
     "output_type": "display_data"
    }
   ],
   "source": [
    "#normalization of the data\n",
    "x_train = tf.keras.utils.normalize(x_train, axis = 1)\n",
    "x_test = tf.keras.utils.normalize(x_test, axis = 1)\n",
    "\n",
    "plt.imshow(x_train[0],cmap = plt.cm.binary)\n",
    "plt.show()"
   ]
  },
  {
   "cell_type": "code",
   "execution_count": 10,
   "metadata": {},
   "outputs": [
    {
     "name": "stdout",
     "output_type": "stream",
     "text": [
      "Epoch 1/6\n",
      "60000/60000 [==============================] - 7s 121us/step - loss: 0.2587 - acc: 0.9240\n",
      "Epoch 2/6\n",
      "60000/60000 [==============================] - 7s 114us/step - loss: 0.1050 - acc: 0.9682\n",
      "Epoch 3/6\n",
      "60000/60000 [==============================] - 7s 113us/step - loss: 0.0708 - acc: 0.9781\n",
      "Epoch 4/6\n",
      "60000/60000 [==============================] - 7s 113us/step - loss: 0.0521 - acc: 0.9832\n",
      "Epoch 5/6\n",
      "60000/60000 [==============================] - 7s 113us/step - loss: 0.0404 - acc: 0.9870\n",
      "Epoch 6/6\n",
      "60000/60000 [==============================] - 7s 113us/step - loss: 0.0316 - acc: 0.9896\n"
     ]
    },
    {
     "data": {
      "text/plain": [
       "<tensorflow.python.keras.callbacks.History at 0x1ba9d482b70>"
      ]
     },
     "execution_count": 10,
     "metadata": {},
     "output_type": "execute_result"
    }
   ],
   "source": [
    "#model\n",
    "model = tf.keras.models.Sequential()\n",
    "\n",
    "#adding the layers\n",
    "\n",
    "#input layer\n",
    "model.add(tf.keras.layers.Flatten())\n",
    "\n",
    "#hidden layer\n",
    "model.add(tf.keras.layers.Dense(128,activation = tf.nn.relu))\n",
    "model.add(tf.keras.layers.Dense(128,activation = tf.nn.relu))\n",
    "\n",
    "#output layer\n",
    "model.add(tf.keras.layers.Dense(10,activation = tf.nn.softmax))\n",
    "\n",
    "#optimizer reduces the loss function like gradient descent\n",
    "model.compile(optimizer = 'adam', loss = 'sparse_categorical_crossentropy', metrics=['accuracy'])\n",
    "\n",
    "#fitting the model\n",
    "model.fit(x_train,y_train,epochs = 6)"
   ]
  },
  {
   "cell_type": "code",
   "execution_count": 14,
   "metadata": {},
   "outputs": [],
   "source": [
    "#making predictions\n",
    "predictions = model.predict([x_test])"
   ]
  },
  {
   "cell_type": "code",
   "execution_count": 30,
   "metadata": {},
   "outputs": [
    {
     "data": {
      "text/plain": [
       "array([[2.3986971e-12, 1.3650867e-09, 6.4448756e-08, ..., 9.9999666e-01,\n",
       "        6.3759342e-10, 6.8830088e-09],\n",
       "       [2.6953402e-09, 1.4758822e-04, 9.9978787e-01, ..., 6.8812698e-09,\n",
       "        9.4007255e-06, 1.5730523e-11],\n",
       "       [6.2831531e-09, 9.9981421e-01, 1.2159315e-05, ..., 1.3360351e-04,\n",
       "        1.7947028e-05, 2.9872754e-07],\n",
       "       ...,\n",
       "       [1.8169216e-07, 5.2448395e-06, 1.2312803e-06, ..., 1.3305218e-04,\n",
       "        2.0649928e-05, 2.0512563e-04],\n",
       "       [6.8472097e-08, 2.0126458e-06, 1.8073703e-08, ..., 2.2367799e-06,\n",
       "        3.1463092e-05, 2.4737947e-09],\n",
       "       [9.2204061e-08, 3.3973961e-09, 3.4449737e-08, ..., 5.3065333e-11,\n",
       "        3.2419312e-08, 1.0761473e-09]], dtype=float32)"
      ]
     },
     "execution_count": 30,
     "metadata": {},
     "output_type": "execute_result"
    }
   ],
   "source": [
    "#probability distribution\n",
    "predictions"
   ]
  },
  {
   "cell_type": "code",
   "execution_count": 45,
   "metadata": {},
   "outputs": [
    {
     "name": "stdout",
     "output_type": "stream",
     "text": [
      "running test...\n",
      "10000/10000 [==============================] - 0s 44us/step\n",
      "\n",
      "overall accuracy: 0.9757 \toverall loss 0.0891009436358232\n"
     ]
    },
    {
     "data": {
      "image/png": "[encoded data removed]",
      "text/plain": [
       "<Figure size 432x288 with 1 Axes>"
      ]
     },
     "metadata": {
      "needs_background": "light"
     },
     "output_type": "display_data"
    },
    {
     "name": "stdout",
     "output_type": "stream",
     "text": [
      "predictions: 6\n"
     ]
    }
   ],
   "source": [
    "print('running test...')\n",
    "\n",
    "#calculating overall accuracy\n",
    "v_loss,v_accuracy = model.evaluate(x_test,y_test)\n",
    "\n",
    "print('\\noverall accuracy:',v_accuracy,'\\toverall loss',v_loss)\n",
    "\n",
    "#predicting\n",
    "index = np.random.randint(x_test.shape[0])\n",
    "plt.imshow(x_test[index])\n",
    "plt.show()\n",
    "print('predictions:',np.argmax(predictions[index]))"
   ]
  },
  {
   "cell_type": "code",
   "execution_count": null,
   "metadata": {},
   "outputs": [],
   "source": []
  },
  {
   "cell_type": "code",
   "execution_count": null,
   "metadata": {},
   "outputs": [],
   "source": []
  }
 ],
 "metadata": {
  "kernelspec": {
   "display_name": "Python 3",
   "language": "python",
   "name": "python3"
  },
  "language_info": {
   "codemirror_mode": {
    "name": "ipython",
    "version": 3
   },
   "file_extension": ".py",
   "mimetype": "text/x-python",
   "name": "python",
   "nbconvert_exporter": "python",
   "pygments_lexer": "ipython3",
   "version": "3.6.5"
  }
 },
 "nbformat": 4,
 "nbformat_minor": 2
}
