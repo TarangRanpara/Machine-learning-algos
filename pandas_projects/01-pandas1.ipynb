{
 "cells": [
  {
   "cell_type": "code",
   "execution_count": 1,
   "metadata": {},
   "outputs": [],
   "source": [
    "import pandas"
   ]
  },
  {
   "cell_type": "code",
   "execution_count": 20,
   "metadata": {},
   "outputs": [],
   "source": [
    "web_stats = {\n",
    "    'days':[1,2,3,4,5,6],\n",
    "    'visitors':[43,53,55,56,44,32],\n",
    "    'bounce_rate':[42,45,67,12,56,78],\n",
    "}"
   ]
  },
  {
   "cell_type": "code",
   "execution_count": 21,
   "metadata": {},
   "outputs": [
    {
     "name": "stdout",
     "output_type": "stream",
     "text": [
      "   bounce_rate  days  visitors\n",
      "0           42     1        43\n",
      "1           45     2        53\n",
      "2           67     3        55\n",
      "3           12     4        56\n",
      "4           56     5        44\n",
      "5           78     6        32\n"
     ]
    }
   ],
   "source": [
    "df = pandas.DataFrame(web_stats)\n",
    "print(df)"
   ]
  },
  {
   "cell_type": "code",
   "execution_count": 22,
   "metadata": {},
   "outputs": [
    {
     "name": "stdout",
     "output_type": "stream",
     "text": [
      "\n",
      "first five:\n",
      "    bounce_rate  days  visitors\n",
      "0           42     1        43\n",
      "1           45     2        53\n",
      "2           67     3        55\n",
      "3           12     4        56\n",
      "4           56     5        44 \n",
      "\n",
      "first two\n",
      "    bounce_rate  days  visitors\n",
      "0           42     1        43\n",
      "1           45     2        53\n",
      "\n",
      "last five:\n",
      "    bounce_rate  days  visitors\n",
      "1           45     2        53\n",
      "2           67     3        55\n",
      "3           12     4        56\n",
      "4           56     5        44\n",
      "5           78     6        32 \n",
      "\n",
      "last two\n",
      "    bounce_rate  days  visitors\n",
      "4           56     5        44\n",
      "5           78     6        32\n"
     ]
    }
   ],
   "source": [
    "#first 5 rows\n",
    "print('\\nfirst five:\\n',df.head(),'\\n\\nfirst two\\n',df.head(2))\n",
    "\n",
    "#last 5 rows\n",
    "print('\\nlast five:\\n',df.tail(),'\\n\\nlast two\\n',df.tail(2))"
   ]
  },
  {
   "cell_type": "code",
   "execution_count": 24,
   "metadata": {},
   "outputs": [
    {
     "name": "stdout",
     "output_type": "stream",
     "text": [
      "0    43\n",
      "1    53\n",
      "2    55\n",
      "3    56\n",
      "4    44\n",
      "5    32\n",
      "Name: visitors, dtype: int64 \n",
      "\n",
      " 0    43\n",
      "1    53\n",
      "2    55\n",
      "3    56\n",
      "4    44\n",
      "5    32\n",
      "Name: visitors, dtype: int64\n"
     ]
    }
   ],
   "source": [
    "print(df.visitors,'\\n\\n',df['visitors'])"
   ]
  },
  {
   "cell_type": "code",
   "execution_count": 25,
   "metadata": {},
   "outputs": [],
   "source": [
    "l = df.days.tolist()"
   ]
  },
  {
   "cell_type": "code",
   "execution_count": 27,
   "metadata": {},
   "outputs": [
    {
     "name": "stdout",
     "output_type": "stream",
     "text": [
      "[1, 2, 3, 4, 5, 6]\n"
     ]
    }
   ],
   "source": [
    "print(l)"
   ]
  },
  {
   "cell_type": "code",
   "execution_count": null,
   "metadata": {},
   "outputs": [],
   "source": []
  }
 ],
 "metadata": {
  "kernelspec": {
   "display_name": "Python 3",
   "language": "python",
   "name": "python3"
  },
  "language_info": {
   "codemirror_mode": {
    "name": "ipython",
    "version": 3
   },
   "file_extension": ".py",
   "mimetype": "text/x-python",
   "name": "python",
   "nbconvert_exporter": "python",
   "pygments_lexer": "ipython3",
   "version": "3.6.4"
  }
 },
 "nbformat": 4,
 "nbformat_minor": 2
}
